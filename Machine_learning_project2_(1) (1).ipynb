{
  "cells": [
    {
      "cell_type": "markdown",
      "source": [
        "# **IMPORTING LIBRARIES**"
      ],
      "metadata": {
        "id": "Y7WhCFLjo4rx"
      }
    },
    {
      "cell_type": "code",
      "execution_count": 1,
      "metadata": {
        "id": "sBaWlP3N9LX4"
      },
      "outputs": [],
      "source": [
        "import numpy as np\n",
        "import pandas as pd\n",
        "\n",
        "\n",
        "\n",
        "\n",
        "\n"
      ]
    },
    {
      "cell_type": "markdown",
      "source": [
        "# **Implementing Algorithm 1 Median-of-means estimator of corrupted negative mean**"
      ],
      "metadata": {
        "id": "GVvOnPU-pPBk"
      }
    },
    {
      "cell_type": "code",
      "execution_count": 2,
      "metadata": {
        "id": "1lsX7Rk0HNeD"
      },
      "outputs": [],
      "source": [
        "def median_of_mean(Sn_bar,g):\n",
        "  # split the data into g equal parts\n",
        "  num_parts=len(Sn_bar)//g\n",
        "  groups=[Sn_bar[i*(num_parts):(i+1)*num_parts,:] for i in range(g)]\n",
        "\n",
        "  # calcuate the mean of each part and store it in a list\n",
        "  means = [np.mean(part, axis=0) for part in groups]\n",
        "\n",
        "  # calculate the differences and store it in a list for each part\n",
        "  differences=[]\n",
        "  for i , mean_i in enumerate(means):\n",
        "    diff=[]\n",
        "    for j, mean_j in enumerate(means):\n",
        "      if i!=j:\n",
        "        diff.append(np.abs(mean_i-mean_j))\n",
        "    differences.append(diff)\n",
        "\n",
        "  # store the medians for each group in a list\n",
        "  median_list=[]\n",
        "  for arr in differences:\n",
        "    med_arr=[]\n",
        "    for ele in arr:\n",
        "      me=np.median(ele)\n",
        "      med_arr.append(me)\n",
        "    med_final=np.median(med_arr)\n",
        "    median_list.append(med_final)\n",
        "  for i , median in enumerate(median_list):\n",
        "    if median==min(median_list):\n",
        "      gr_oup=i\n",
        "      break\n",
        "  u_Sn=means[i]\n",
        "  return u_Sn\n",
        "\n",
        "\n",
        "\n"
      ]
    },
    {
      "cell_type": "markdown",
      "source": [
        "# **Defining The Covariance Matrix**"
      ],
      "metadata": {
        "id": "b-O9Z374ppy-"
      }
    },
    {
      "cell_type": "code",
      "execution_count": 3,
      "metadata": {
        "id": "UmXVOpiSN4Ed"
      },
      "outputs": [],
      "source": [
        "\n",
        "def Covariance_matrix(Sn_bar_features,Sn_bar_labels):\n",
        "  n=Sn_bar_features.shape[1]\n",
        "  k1=np.zeros((n,n))\n",
        "  for i in range(n):\n",
        "    x_i=Sn_bar_features[i].reshape(n,1)\n",
        "    x_i_transpose=x_i.T\n",
        "    k1=k1+x_i@x_i_transpose\n",
        "  k2=k1/n\n",
        "  k3=np.zeros((n,1))\n",
        "  k4=np.zeros((1,n))\n",
        "  for i in range(n):\n",
        "    z_i=Sn_bar_features[i].reshape(n,1)\n",
        "    y_i_bar=Sn_bar_labels[i]\n",
        "    k3=k3+z_i*y_i_bar\n",
        "    k4=k4+z_i.T*y_i_bar\n",
        "  k5=(k3@k4)/(n**3)\n",
        "  cov_matrix=k2-k5\n",
        "  return cov_matrix\n",
        "\n"
      ]
    },
    {
      "cell_type": "markdown",
      "source": [
        "# **Gradient of the fucntion**"
      ],
      "metadata": {
        "id": "Iz-s0RU9pzWg"
      }
    },
    {
      "cell_type": "code",
      "execution_count": 4,
      "metadata": {
        "id": "zS3zKn2jYMNw"
      },
      "outputs": [],
      "source": [
        "\n",
        "import numpy as np\n",
        "\n",
        "def objective_function(Sn, k, w, eta, lambda_val, p,mu):\n",
        "    n=len(Sn)\n",
        "    d=Sn.shape[1]-1\n",
        "    c=-(n-k)/(2*n)\n",
        "    y=Sn[:,d]\n",
        "    x=Sn[:,0:d]\n",
        "\n",
        "\n",
        "    # Empirical risk term using hinge loss\n",
        "    hinge_loss_sum_clean = np.sum(np.maximum(0, 1 - y[:k] * np.dot(x[:k], w)))\n",
        "    hinge_loss_sum_noisy = np.sum(np.maximum(0, 1 - y[k:] * np.dot(x[k:], w)))\n",
        "\n",
        "    # Regularization term\n",
        "    regularization_term = lambda_val * np.linalg.norm(w)**2\n",
        "    d= (1 - 2 * p * eta )\n",
        "\n",
        "    # Loss term for the noisy part\n",
        "    loss_noisy = c * np.dot(w, mu)/d + regularization_term\n",
        "\n",
        "    return (1/n) * (hinge_loss_sum_clean) + (1/(2*n)) * (hinge_loss_sum_noisy) + loss_noisy\n"
      ]
    },
    {
      "cell_type": "code",
      "execution_count": 5,
      "metadata": {
        "id": "FzNvYEiWP-tU"
      },
      "outputs": [],
      "source": [
        "import numpy as np\n",
        "\n",
        "def objective_function_gradient(Sn, k, w, eta, lambda_val, p,mu):\n",
        "    n = len(Sn)\n",
        "    d = Sn.shape[1] - 1\n",
        "    c = -(n - k) / (2 * n)\n",
        "    y = Sn[:, d]\n",
        "    x=Sn[:,0:d]\n",
        "\n",
        "    # Gradient of the empirical risk term using hinge loss\n",
        "    hinge_loss_grad_clean = np.zeros_like(w).astype(float)\n",
        "    hinge_loss_grad_noisy = np.zeros_like(w).astype(float)\n",
        "\n",
        "    # Compute gradient for clean examples\n",
        "    for i in range(k):\n",
        "        if 1 - y[i] * np.dot(x[i], w) > 0:\n",
        "            hinge_loss_grad_clean -= y[i] * x[i]\n",
        "\n",
        "    # Compute gradient for noisy examples\n",
        "    for i in range(k, n):\n",
        "        if 1 - y[i] * np.dot(x[i], w) > 0:\n",
        "            hinge_loss_grad_noisy -= y[i] * x[i]\n",
        "\n",
        "    # Regularization term gradient\n",
        "    regularization_term_grad = 2 * lambda_val * w\n",
        "\n",
        "    # Gradient of the loss term for the noisy part\n",
        "    d=d= (1 - 2 * p * eta )\n",
        "    loss_noisy_grad = (c /d)*mu\n",
        "\n",
        "    # Combine gradients\n",
        "    gradient = (1 / n) * hinge_loss_grad_clean + (1 / (2 * n)) * hinge_loss_grad_noisy + loss_noisy_grad + regularization_term_grad\n",
        "\n",
        "    return gradient\n",
        "\n",
        "\n",
        "\n",
        "\n"
      ]
    },
    {
      "cell_type": "code",
      "execution_count": 6,
      "metadata": {
        "id": "1lfhn-xyh3tx"
      },
      "outputs": [],
      "source": [
        "def exact_line_search(f, gradient,x,alpha, beta,Sn,k,eta,lambda_val,p,mu, tol=1e-3, max_iter=100):\n",
        "    a = 0.0\n",
        "    b = 1.0\n",
        "\n",
        "    iter_count = 0\n",
        "    while iter_count < max_iter:\n",
        "        # Compute function values at points a and b\n",
        "        gr=gradient(Sn, k, x, eta, lambda_val, p,mu)\n",
        "        fa = f(Sn, k, x-a*gr, eta, lambda_val, p,mu)\n",
        "        fb = f(Sn, k, x-b*gr, eta, lambda_val, p,mu)\n",
        "\n",
        "        # Check if the interval is small enough\n",
        "        if b - a < tol:\n",
        "            break\n",
        "\n",
        "        # Compute the midpoint of the interval\n",
        "        t = (a + b) / 2\n",
        "\n",
        "        # Compute function value at the midpoint\n",
        "        ft = f(Sn, k, x-t*gr, eta, lambda_val, p,mu)\n",
        "\n",
        "        # Update the interval based on function values\n",
        "        if ft < fa and ft < fb:\n",
        "            b = t\n",
        "        else:\n",
        "            a = t\n",
        "\n",
        "        iter_count += 1\n",
        "\n",
        "    # Return the midpoint of the final interval as the optimal step size\n",
        "    return (a + b) / 2\n",
        "\n",
        "\n",
        "\n"
      ]
    },
    {
      "cell_type": "code",
      "execution_count": 7,
      "metadata": {
        "id": "WDMekk_4Q2HR"
      },
      "outputs": [],
      "source": [
        "import numpy as np\n",
        "\n",
        "\n",
        "\n",
        "def gradient_descent(func, grad, x0,Sn,k,eta,lambda_val,mu,p,beta,tol,alpha=0.5,max_iter=1000):\n",
        "    iter_count1=0\n",
        "    x = x0\n",
        "\n",
        "    while iter_count1<max_iter:\n",
        "        # Compute the gradient at the current point\n",
        "        grad_x = grad(Sn, k, x, eta, lambda_val, p,mu)\n",
        "\n",
        "        # Compute the search direction (negative gradient)\n",
        "        d = -grad_x\n",
        "\n",
        "        # Determine the step size using Armijo condition\n",
        "\n",
        "        t = exact_line_search(func, grad, x,  alpha, beta,Sn,k,eta,lambda_val,p,mu,tol=1e-3,max_iter=100)\n",
        "\n",
        "        # Update the variable using the step size\n",
        "        x_new = x + t * d\n",
        "        iter_count1=iter_count1+1\n",
        "\n",
        "        # Check for convergence\n",
        "        if np.linalg.norm(x_new) < tol:\n",
        "            break\n",
        "\n",
        "        x = x_new\n",
        "\n",
        "    return x\n",
        "\n",
        "\n"
      ]
    },
    {
      "cell_type": "markdown",
      "source": [
        "# **Implementing Loss Decomposition And Centroid Estimation Algorithm**"
      ],
      "metadata": {
        "id": "SZFE-o6gp-BL"
      }
    },
    {
      "cell_type": "code",
      "execution_count": 8,
      "metadata": {
        "id": "kaOlnyLC1mj2"
      },
      "outputs": [],
      "source": [
        "# Loss Decomposition And Centroid Estimation Algorithm\n",
        "def LDCE_algorithm(Sn_bar,eta,lambda_val,beta,k):\n",
        "  #calling algorithm 1 to give mucap\n",
        "  n=len(Sn_bar)\n",
        "  d=Sn_bar.shape[1]-1\n",
        "  label=Sn_bar[:,d]\n",
        "  feature_space=Sn_bar[:,0:d]\n",
        "  Corr_sample=feature_space[k:]\n",
        "  corr_label=label[k:]\n",
        "  g=5\n",
        "  mu_bar=median_of_mean(Corr_sample,g)\n",
        "  # Calculating The covariance MAtrix\n",
        "  cov_matrix=Covariance_matrix(Corr_sample,corr_label)\n",
        "  t=0\n",
        "  w0=np.zeros(d)\n",
        "  # Calculating Mu\n",
        "  try:\n",
        "    cov_inverse = np.linalg.inv(cov_matrix)\n",
        "\n",
        "  except np.linalg.LinAlgError:\n",
        "\n",
        "    cov_inverse = np.linalg.pinv(cov_matrix)\n",
        "\n",
        "\n",
        "\n",
        "\n",
        "  w=w0.reshape(d,1)\n",
        "  epsilon = 1e-5\n",
        "  denominator = w.T @ cov_inverse @ w\n",
        "  denominator_safe = np.maximum(denominator, epsilon)\n",
        "  term = np.sqrt(beta / denominator_safe)\n",
        "  final_mu = mu_bar + cov_inverse @ w0 * term\n",
        "\n",
        "  f_u=np.squeeze(final_mu)\n",
        "  fun=objective_function\n",
        "  gra=objective_function_gradient\n",
        "  p=k/(n*(1-eta))\n",
        "  tol=1e-1\n",
        "  k1=k\n",
        "  converged_w=gradient_descent(fun,gra,w0,Sn_bar,k1,eta,lambda_val,f_u,p,beta,tol,alpha=0.5)\n",
        "  return converged_w\n",
        "\n"
      ]
    },
    {
      "cell_type": "markdown",
      "source": [
        "# **Generating a synthetic Dataset**\n",
        "\n",
        "\n",
        "\n"
      ],
      "metadata": {
        "id": "Ql-MriBhqHNN"
      }
    },
    {
      "cell_type": "code",
      "execution_count": 9,
      "metadata": {
        "colab": {
          "base_uri": "https://localhost:8080/",
          "height": 472
        },
        "id": "FkplGUftlS7x",
        "outputId": "8a88518e-5b49-46de-8f36-0ca241009544"
      },
      "outputs": [
        {
          "output_type": "display_data",
          "data": {
            "text/plain": [
              "<Figure size 640x480 with 1 Axes>"
            ],
            "image/png": "[encoded data removed]"
          },
          "metadata": {}
        }
      ],
      "source": [
        "\n",
        "import numpy as np\n",
        "\n",
        "# Set the random seed for reproducibility\n",
        "np.random.seed(42)\n",
        "\n",
        "# Generate random Gaussian data points\n",
        "data = np.random.randn(1000, 2)\n",
        "\n",
        "# Scale the data to fit within -2.5 to 2.5 on both dimensions\n",
        "scaled_data = data * 2.5 / np.max(np.abs(data))\n",
        "# Alternatively, you can use:\n",
        "# scaled_data = data * 2.5 / np.max(np.abs(data), axis=0)\n",
        "\n",
        "# Set the random seed for reproducibility\n",
        "np.random.seed(42)\n",
        "\n",
        "# Generate random angles\n",
        "angles = np.random.uniform(0, 2*np.pi, 1000)\n",
        "\n",
        "# Generate random radii within the specified range\n",
        "radii = np.random.uniform(2.5, 5, 1000)\n",
        "\n",
        "# Convert polar coordinates to Cartesian coordinates\n",
        "x = radii * np.cos(angles)\n",
        "y = radii * np.sin(angles)\n",
        "\n",
        "# Combine x and y coordinates to get the final data points\n",
        "data = np.column_stack((x, y))\n",
        "import numpy as np\n",
        "import matplotlib.pyplot as plt\n",
        "\n",
        "# Set the random seed for reproducibility\n",
        "np.random.seed(42)\n",
        "\n",
        "# Number of data points in each cluster\n",
        "num_points_per_cluster = 500\n",
        "\n",
        "# Generate points for the bottom left cluster\n",
        "bottom_left_mean = [-3, -3]\n",
        "bottom_left_covariance = [[1, 0.5], [0.5, 1]]\n",
        "bottom_left_cluster = np.random.multivariate_normal(bottom_left_mean, bottom_left_covariance, num_points_per_cluster)\n",
        "\n",
        "# Generate points for the upper right cluster\n",
        "upper_right_mean = [3, 3]\n",
        "upper_right_covariance = [[1, 0.5], [0.5, 1]]\n",
        "upper_right_cluster = np.random.multivariate_normal(upper_right_mean, upper_right_covariance, num_points_per_cluster)\n",
        "\n",
        "# Plot the clusters\n",
        "plt.scatter(bottom_left_cluster[:, 0], bottom_left_cluster[:, 1], color='blue', label='Positive Data')\n",
        "plt.scatter(upper_right_cluster[:, 0], upper_right_cluster[:, 1], color='red', label='Negative Data')\n",
        "\n",
        "# Add labels and title\n",
        "plt.xlabel('X')\n",
        "plt.ylabel('Y')\n",
        "plt.title('Positive ANd Negative Data')\n",
        "\n",
        "# Add legend\n",
        "plt.legend()\n",
        "\n",
        "# Show plot\n",
        "plt.grid(True)\n",
        "plt.show()"
      ]
    },
    {
      "cell_type": "code",
      "execution_count": 10,
      "metadata": {
        "id": "pG2nTH37dMKM"
      },
      "outputs": [],
      "source": [
        "#let chose eta to be 0.2\n",
        "k=400\n",
        "lab=[1]*400 +[-1]*600\n",
        "y_label_bar=np.array(lab).reshape(-1,1)\n",
        "arr=np.vstack((bottom_left_cluster,upper_right_cluster))\n",
        "Sn_data=np.hstack((arr,y_label_bar))\n"
      ]
    },
    {
      "cell_type": "code",
      "execution_count": 11,
      "metadata": {
        "colab": {
          "base_uri": "https://localhost:8080/"
        },
        "id": "O_yJVx8BeuZ_",
        "outputId": "4fa22045-61e3-45ac-d318-ca0ec9b8923f"
      },
      "outputs": [
        {
          "output_type": "execute_result",
          "data": {
            "text/plain": [
              "array([0.77243403, 0.80026492])"
            ]
          },
          "metadata": {},
          "execution_count": 11
        }
      ],
      "source": [
        "# Experimenting on the above data\n",
        "data_corr=Sn_data\n",
        "eta1=0.2\n",
        "lambda_vall=0.5\n",
        "beta1=0.5\n",
        "k=400\n",
        "LDCE_algorithm(data_corr,eta1,lambda_vall,beta1,k)"
      ]
    },
    {
      "cell_type": "code",
      "execution_count": 12,
      "metadata": {
        "id": "mKmN_8xTnNvM"
      },
      "outputs": [],
      "source": [
        "weights=LDCE_algorithm(data_corr,eta1,lambda_vall,beta1,k)"
      ]
    },
    {
      "cell_type": "markdown",
      "source": [
        "# **Displaying the seperation generated for synthetic dataset**"
      ],
      "metadata": {
        "id": "E_zxeQgzqWLx"
      }
    },
    {
      "cell_type": "code",
      "execution_count": 13,
      "metadata": {
        "colab": {
          "base_uri": "https://localhost:8080/",
          "height": 472
        },
        "id": "36_Y1X4ZEh2q",
        "outputId": "5e93fd1e-56b5-4709-8458-7585c38c2173"
      },
      "outputs": [
        {
          "output_type": "display_data",
          "data": {
            "text/plain": [
              "<Figure size 640x480 with 1 Axes>"
            ],
            "image/png": "[encoded data removed]"
          },
          "metadata": {}
        }
      ],
      "source": [
        "\n",
        "import numpy as np\n",
        "import matplotlib.pyplot as plt\n",
        "\n",
        "# Generate some example data\n",
        "# Replace X_positive and X_negative with your actual data points\n",
        "np.random.seed(0)\n",
        "X_positive = bottom_left_cluster  # Positive class\n",
        "X_negative = upper_right_cluster  # Negative class\n",
        "\n",
        "# Plot the data points\n",
        "plt.scatter(X_positive[:, 0], X_positive[:, 1], color='blue', label='Positive')\n",
        "plt.scatter(X_negative[:, 0], X_negative[:, 1], color='red', label='Negative')\n",
        "\n",
        "# Example weights (replace with your model's weights)\n",
        "weigh = weights\n",
        "\n",
        "# Compute the decision boundary\n",
        "# For a linear model: w0*x + w1*y + b = 0\n",
        "# So, y = -(w0/w1)*x - (b/w1)\n",
        "x_values = np.linspace(-6, 6, 100)\n",
        "y_values = -(weights[0] / weights[1]) * x_values  # Assuming bias term is included in weights\n",
        "\n",
        "# Plot the decision boundary\n",
        "plt.plot(x_values, y_values, color='black', linestyle='--', label='Decision Boundary')\n",
        "\n",
        "plt.xlabel('X')\n",
        "plt.ylabel('Y')\n",
        "plt.title('Data Points and Decision Boundary')\n",
        "plt.legend()\n",
        "plt.grid(True)\n",
        "plt.show()\n",
        "\n"
      ]
    },
    {
      "cell_type": "markdown",
      "source": [
        "# **Experiment for vote dataset**"
      ],
      "metadata": {
        "id": "PvfQKOcZqcC5"
      }
    },
    {
      "cell_type": "code",
      "execution_count": 14,
      "metadata": {
        "colab": {
          "base_uri": "https://localhost:8080/"
        },
        "id": "fAMa65ispmI0",
        "outputId": "5a8054fa-d55c-4923-f42f-8edc4226beb4"
      },
      "outputs": [
        {
          "output_type": "stream",
          "name": "stdout",
          "text": [
            "        party vote_1 vote_2 vote_3 vote_4 vote_5 vote_6 vote_7 vote_8 vote_9  \\\n",
            "0  republican      n      y      n      y      y      y      n      n      n   \n",
            "1  republican      n      y      n      y      y      y      n      n      n   \n",
            "2    democrat      ?      y      y      ?      y      y      n      n      n   \n",
            "3    democrat      n      y      y      n      ?      y      n      n      n   \n",
            "4    democrat      y      y      y      n      y      y      n      n      n   \n",
            "\n",
            "  vote_10 vote_11 vote_12 vote_13 vote_14 vote_15 vote_16  \n",
            "0       y       ?       y       y       y       n       y  \n",
            "1       n       n       y       y       y       n       ?  \n",
            "2       n       y       n       y       y       n       n  \n",
            "3       n       y       n       y       n       n       y  \n",
            "4       n       y       ?       y       y       y       y  \n"
          ]
        }
      ],
      "source": [
        "import pandas as pd\n",
        "\n",
        "# URL for the dataset\n",
        "url = \"https://archive.ics.uci.edu/ml/machine-learning-databases/voting-records/house-votes-84.data\"\n",
        "\n",
        "# Define column names\n",
        "column_names = ['party'] + ['vote_' + str(i) for i in range(1, 17)]\n",
        "\n",
        "# Load the dataset\n",
        "vote_data = pd.read_csv(url, header=None, names=column_names)\n",
        "\n",
        "# Display the first few rows of the dataset\n",
        "print(vote_data.head())\n"
      ]
    },
    {
      "cell_type": "code",
      "execution_count": 15,
      "metadata": {
        "id": "LIn0BR6JqYve",
        "colab": {
          "base_uri": "https://localhost:8080/"
        },
        "outputId": "44b6ce04-bdb4-45c9-fdf5-03e61e0f7f48"
      },
      "outputs": [
        {
          "output_type": "execute_result",
          "data": {
            "text/plain": [
              "(435, 17)"
            ]
          },
          "metadata": {},
          "execution_count": 15
        }
      ],
      "source": [
        "df3=vote_data\n",
        "df3.shape"
      ]
    },
    {
      "cell_type": "markdown",
      "source": [
        "# **considering Republican as 1 and democrat as -1 and assigning -1 to n and 1 to y ( our features are also belong to binary class)**"
      ],
      "metadata": {
        "id": "rtPmMud5qqN-"
      }
    },
    {
      "cell_type": "code",
      "execution_count": 16,
      "metadata": {
        "id": "AHUcw8UZrWNH"
      },
      "outputs": [],
      "source": [
        "\n",
        "for i ,value in enumerate(df3['party']):\n",
        "  if value=='republican':\n",
        "    df3.loc[i,'party']=-1\n",
        "  else:\n",
        "    df3.loc[i,'party']=1"
      ]
    },
    {
      "cell_type": "code",
      "execution_count": 17,
      "metadata": {
        "id": "RpLXxaFCwlCt"
      },
      "outputs": [],
      "source": [
        "vote_array1=np.ones((435,16))"
      ]
    },
    {
      "cell_type": "code",
      "execution_count": 18,
      "metadata": {
        "id": "xyzr2MYrqa1i"
      },
      "outputs": [],
      "source": [
        "for i in range(435):\n",
        "  for j in range(1,17):\n",
        "    if df3.iloc[i,j]=='n':\n",
        "      vote_array1[i,j-1]=-1\n",
        "    elif df3.iloc[i,j]=='y':\n",
        "      vote_array1[i,j-1]=1\n",
        "    else:\n",
        "      vote_array1[i,j-1]=0\n"
      ]
    },
    {
      "cell_type": "code",
      "execution_count": 19,
      "metadata": {
        "colab": {
          "base_uri": "https://localhost:8080/"
        },
        "id": "GZdAcPaXxxNf",
        "outputId": "851d2251-2896-4b9a-9dda-911ac8600b7d"
      },
      "outputs": [
        {
          "output_type": "execute_result",
          "data": {
            "text/plain": [
              "array([[-1.,  1., -1., ..., -1.,  1., -1.],\n",
              "       [-1.,  1., -1., ..., -1.,  0., -1.],\n",
              "       [ 0.,  1.,  1., ..., -1., -1.,  1.],\n",
              "       ...,\n",
              "       [-1.,  0., -1., ..., -1.,  1., -1.],\n",
              "       [-1., -1., -1., ..., -1.,  1., -1.],\n",
              "       [-1.,  1., -1., ...,  0., -1., -1.]])"
            ]
          },
          "metadata": {},
          "execution_count": 19
        }
      ],
      "source": [
        "ae=np.array(df3['party'].tolist()).reshape(435,1)\n",
        "new_array1 = np.concatenate((vote_array1, ae), axis=1)\n",
        "new_array1"
      ]
    },
    {
      "cell_type": "code",
      "execution_count": 20,
      "metadata": {
        "colab": {
          "base_uri": "https://localhost:8080/"
        },
        "id": "ZnlGG4FRvA3N",
        "outputId": "c0475a51-fa3c-4e77-e34b-eff227dca2d4"
      },
      "outputs": [
        {
          "output_type": "execute_result",
          "data": {
            "text/plain": [
              "(435, 17)"
            ]
          },
          "metadata": {},
          "execution_count": 20
        }
      ],
      "source": [
        "new_array1.shape\n"
      ]
    },
    {
      "cell_type": "code",
      "execution_count": 21,
      "metadata": {
        "id": "8xcPmkBs0Zax"
      },
      "outputs": [],
      "source": [
        "Positive=[]\n",
        "negative=[]\n",
        "for i in range(435):\n",
        "  if new_array1[i,16]==1:\n",
        "    Positive.append(new_array1[i])\n",
        "  else:\n",
        "    negative.append(new_array1[i])\n"
      ]
    },
    {
      "cell_type": "code",
      "execution_count": 22,
      "metadata": {
        "colab": {
          "base_uri": "https://localhost:8080/"
        },
        "id": "nzhpRQcZ2XmC",
        "outputId": "b78796b6-fe45-4779-8757-4f43afa317a2"
      },
      "outputs": [
        {
          "output_type": "stream",
          "name": "stdout",
          "text": [
            "168\n",
            "267\n"
          ]
        }
      ],
      "source": [
        "print(len(negative))\n",
        "print(len(Positive))"
      ]
    },
    {
      "cell_type": "markdown",
      "source": [
        "# **Extracting out Only features**"
      ],
      "metadata": {
        "id": "g1m6BnXcq934"
      }
    },
    {
      "cell_type": "code",
      "execution_count": 23,
      "metadata": {
        "id": "IHMfa_PF3YCD"
      },
      "outputs": [],
      "source": [
        "\n",
        "final_vote_array=np.vstack(Positive+negative)"
      ]
    },
    {
      "cell_type": "code",
      "execution_count": 24,
      "metadata": {
        "id": "jGiztLIj1Ujd"
      },
      "outputs": [],
      "source": [
        "final_vote_features=final_vote_array[:,0:final_vote_array.shape[1]-1]"
      ]
    },
    {
      "cell_type": "code",
      "execution_count": 25,
      "metadata": {
        "colab": {
          "base_uri": "https://localhost:8080/"
        },
        "id": "b7gh9KUmKc4x",
        "outputId": "018f5235-75ad-4d05-858c-ad8bc6f433e1"
      },
      "outputs": [
        {
          "output_type": "execute_result",
          "data": {
            "text/plain": [
              "array([[ 0.,  1.,  1., ...,  1., -1., -1.],\n",
              "       [-1.,  1.,  1., ..., -1., -1.,  1.],\n",
              "       [ 1.,  1.,  1., ...,  1.,  1.,  1.],\n",
              "       ...,\n",
              "       [-1.,  0., -1., ...,  1., -1.,  1.],\n",
              "       [-1., -1., -1., ...,  1., -1.,  1.],\n",
              "       [-1.,  1., -1., ...,  1.,  0., -1.]])"
            ]
          },
          "metadata": {},
          "execution_count": 25
        }
      ],
      "source": [
        "final_vote_features"
      ]
    },
    {
      "cell_type": "code",
      "execution_count": 26,
      "metadata": {
        "id": "DttXVGVtLlc4"
      },
      "outputs": [],
      "source": [
        "# For eta=0.2 Total positive features came out to be\n",
        "k_vote=int(267-257*0.2)"
      ]
    },
    {
      "cell_type": "markdown",
      "metadata": {
        "id": "mQKs17IyNnon"
      },
      "source": [
        "#**Here By adding noise k sample points are considered as positive and rest are considered as unlabeled and as per requirement of algorithm all the unlabeled guys are treated as negative points**\n"
      ]
    },
    {
      "cell_type": "code",
      "execution_count": 27,
      "metadata": {
        "id": "ZDBHqoQnMIcW"
      },
      "outputs": [],
      "source": [
        "corr_label_list=[1]*k_vote +[-1]*(435-k_vote)\n",
        "corr_label_array=np.array(corr_label_list).reshape(-1,1)\n",
        "corr_data=np.hstack((final_vote_features,corr_label_array))"
      ]
    },
    {
      "cell_type": "code",
      "source": [
        "k_vote"
      ],
      "metadata": {
        "colab": {
          "base_uri": "https://localhost:8080/"
        },
        "id": "7bJmJ3z2h9hZ",
        "outputId": "18b273c8-c50d-4b5d-f11b-1d4007bd5336"
      },
      "execution_count": 28,
      "outputs": [
        {
          "output_type": "execute_result",
          "data": {
            "text/plain": [
              "215"
            ]
          },
          "metadata": {},
          "execution_count": 28
        }
      ]
    },
    {
      "cell_type": "markdown",
      "source": [
        "# **Experimenting on the above vote data**"
      ],
      "metadata": {
        "id": "0riXk3PmrSl-"
      }
    },
    {
      "cell_type": "code",
      "execution_count": 29,
      "metadata": {
        "id": "D-eOxFkfM2Dt"
      },
      "outputs": [],
      "source": [
        "\n",
        "vote_corr=corr_data\n",
        "eta1=0.2\n",
        "lambda_vall=0.5\n",
        "beta1=0.5\n",
        "\n",
        "weight_vote=LDCE_algorithm(vote_corr,eta1,lambda_vall,beta1,k_vote)"
      ]
    },
    {
      "cell_type": "code",
      "source": [
        "w_vote=weight_vote.reshape(16,1)\n",
        "feature=final_vote_features[400].reshape(16,1)\n",
        "\n"
      ],
      "metadata": {
        "id": "D0kjuF_nljfg"
      },
      "execution_count": 30,
      "outputs": []
    },
    {
      "cell_type": "code",
      "source": [
        "def accuracy_vote(data,weigh):\n",
        "  s1=0\n",
        "  s2=0\n",
        "  n=len(data)\n",
        "  for i in range(267):\n",
        "\n",
        "    f=data[i]\n",
        "    if np.dot(weigh,f)>=0:\n",
        "      s1+=1\n",
        "  for i in range(267,435):\n",
        "\n",
        "    f=data[i]\n",
        "    if np.dot(weigh,f)<=0:\n",
        "      s2+=1\n",
        "  accur=(s1+s2)/(n)\n",
        "  return accur\n"
      ],
      "metadata": {
        "id": "u4xHlRHZISny"
      },
      "execution_count": 31,
      "outputs": []
    },
    {
      "cell_type": "code",
      "source": [
        "print(f\"The accuracy for the vote dataset from LDCE algorithm is {accuracy_vote(final_vote_features,weight_vote)}\")"
      ],
      "metadata": {
        "colab": {
          "base_uri": "https://localhost:8080/"
        },
        "id": "lZEkKpklIoQd",
        "outputId": "cfe718be-633a-49ab-f6cd-69d2aec0a2d2"
      },
      "execution_count": 32,
      "outputs": [
        {
          "output_type": "stream",
          "name": "stdout",
          "text": [
            "The accuracy for the vote dataset from LDCE algorithm is 0.8758620689655172\n"
          ]
        }
      ]
    },
    {
      "cell_type": "markdown",
      "source": [
        "# **Importing real world dataset (handwritten digit dataset)**"
      ],
      "metadata": {
        "id": "hQDSbKgmsumY"
      }
    },
    {
      "cell_type": "code",
      "source": [
        "from sklearn.datasets import fetch_openml\n",
        "\n",
        "# Load USPS handwritten digit dataset\n",
        "usps = fetch_openml('usps', version=2)\n",
        "\n",
        "# Extract features and target labels\n",
        "X = usps.data\n",
        "y = usps.target\n",
        "\n",
        "print(\"Shape of features:\", X.shape)\n",
        "print(\"Shape of target labels:\", y.shape)\n"
      ],
      "metadata": {
        "colab": {
          "base_uri": "https://localhost:8080/"
        },
        "id": "S5NqqN79lkjm",
        "outputId": "94bb34b9-7551-4be9-c830-14291a101eb9"
      },
      "execution_count": 33,
      "outputs": [
        {
          "output_type": "stream",
          "name": "stderr",
          "text": [
            "/usr/local/lib/python3.10/dist-packages/sklearn/datasets/_openml.py:968: FutureWarning: The default value of `parser` will change from `'liac-arff'` to `'auto'` in 1.4. You can set `parser='auto'` to silence this warning. Therefore, an `ImportError` will be raised from 1.4 if the dataset is dense and pandas is not installed. Note that the pandas parser may return different data types. See the Notes Section in fetch_openml's API doc for details.\n",
            "  warn(\n"
          ]
        },
        {
          "output_type": "stream",
          "name": "stdout",
          "text": [
            "Shape of features: (9298, 256)\n",
            "Shape of target labels: (9298,)\n"
          ]
        }
      ]
    },
    {
      "cell_type": "markdown",
      "source": [
        "#**creating an array for the above dataset**\n"
      ],
      "metadata": {
        "id": "TDT9dVzkv9rT"
      }
    },
    {
      "cell_type": "code",
      "source": [
        "import numpy as np\n",
        "ar1=X.values\n",
        "ar2=y.values\n",
        "arr_label = np.concatenate((ar1, ar2.reshape(-1,1)), axis=1)\n"
      ],
      "metadata": {
        "id": "qn4_aHJkm576"
      },
      "execution_count": 34,
      "outputs": []
    },
    {
      "cell_type": "code",
      "source": [
        "Positive1=[]\n",
        "negative1=[]\n",
        "for i in range(len(X)):\n",
        "  if arr_label[i,256]=='1':\n",
        "    Positive1.append(arr_label[i])\n",
        "  else:\n",
        "    negative1.append(arr_label[i])"
      ],
      "metadata": {
        "id": "SFXwwb86vBFd"
      },
      "execution_count": 35,
      "outputs": []
    },
    {
      "cell_type": "code",
      "source": [
        "# for neta to be 0.2 the value of k came out to be\n",
        "k_ups=int(1553-0.2*1553)\n",
        "# Extracting out Only features\n",
        "final_ups_array=np.vstack(Positive1+negative1)\n",
        "final_ups_features=final_ups_array[:,0:final_ups_array.shape[1]-1]"
      ],
      "metadata": {
        "id": "cyaj6k8sxJD6"
      },
      "execution_count": 36,
      "outputs": []
    },
    {
      "cell_type": "code",
      "source": [
        "corr_label_list1=[1]*k_ups +[-1]*(len(X)-k_ups)\n",
        "corr_label_array1=np.array(corr_label_list1).reshape(-1,1)\n",
        "corr_data_ups=np.hstack((final_ups_features,corr_label_array1))\n",
        "corr_data_ups = corr_data_ups.astype(int)\n"
      ],
      "metadata": {
        "id": "1e7dciKFx49q"
      },
      "execution_count": 37,
      "outputs": []
    },
    {
      "cell_type": "code",
      "source": [
        "corr_data_ups[:,0:corr_data_ups.shape[1]-1].shape"
      ],
      "metadata": {
        "colab": {
          "base_uri": "https://localhost:8080/"
        },
        "id": "88-C32IIDSpA",
        "outputId": "195ab307-ba01-46a0-c1d0-a052e845605b"
      },
      "execution_count": 38,
      "outputs": [
        {
          "output_type": "execute_result",
          "data": {
            "text/plain": [
              "(9298, 256)"
            ]
          },
          "metadata": {},
          "execution_count": 38
        }
      ]
    },
    {
      "cell_type": "code",
      "source": [
        "ups_corr=pd.DataFrame(corr_data_ups)"
      ],
      "metadata": {
        "id": "48P7q5O02F2g"
      },
      "execution_count": 39,
      "outputs": []
    },
    {
      "cell_type": "markdown",
      "source": [
        "#**experimenting on the above dataset**"
      ],
      "metadata": {
        "id": "2d0VXiKq0JWo"
      }
    },
    {
      "cell_type": "code",
      "source": [
        "ups_corr=corr_data_ups\n",
        "eta1=0.2\n",
        "lambda_vall=0.5\n",
        "beta1=0.5\n",
        "\n",
        "weight_ups=LDCE_algorithm(ups_corr,eta1,lambda_vall,beta1,k_ups)"
      ],
      "metadata": {
        "id": "RGfqTw7B0A1k"
      },
      "execution_count": 40,
      "outputs": []
    },
    {
      "cell_type": "code",
      "source": [
        "data_ups=corr_data_ups[:,0:corr_data_ups.shape[1]-1]"
      ],
      "metadata": {
        "id": "HV8wLPuZFCvd"
      },
      "execution_count": 41,
      "outputs": []
    },
    {
      "cell_type": "code",
      "source": [
        "n=len(X)\n",
        "def accuracy_data(data,weigh):\n",
        "  s1=0\n",
        "  s2=0\n",
        "  n=len(data)\n",
        "  for i in range(1553):\n",
        "\n",
        "    f=data[i]\n",
        "    if np.dot(weigh,f)<=0:\n",
        "      s1+=1\n",
        "  for i in range(1553,n):\n",
        "\n",
        "    f=data[i]\n",
        "    if np.dot(weigh,f)>=0:\n",
        "      s2+=1\n",
        "  accur=(s1+s2)/(n)\n",
        "  return accur\n"
      ],
      "metadata": {
        "id": "xqpWXH8ZB7Dy"
      },
      "execution_count": 42,
      "outputs": []
    },
    {
      "cell_type": "code",
      "source": [
        "print(accuracy_data(corr_data_ups[:,0:corr_data_ups.shape[1]-1],weight_ups))"
      ],
      "metadata": {
        "colab": {
          "base_uri": "https://localhost:8080/"
        },
        "id": "HH01gmhyDHYa",
        "outputId": "f02be371-2628-4c43-c713-b1cbff271326"
      },
      "execution_count": 43,
      "outputs": [
        {
          "output_type": "stream",
          "name": "stdout",
          "text": [
            "0.8620133362013336\n"
          ]
        }
      ]
    }
  ],
  "metadata": {
    "colab": {
      "provenance": []
    },
    "kernelspec": {
      "display_name": "Python 3",
      "name": "python3"
    },
    "language_info": {
      "name": "python"
    }
  },
  "nbformat": 4,
  "nbformat_minor": 0
}